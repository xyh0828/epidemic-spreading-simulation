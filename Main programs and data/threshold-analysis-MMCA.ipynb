{
 "cells": [
  {
   "cell_type": "markdown",
   "id": "68b0805e-934e-4572-a9d9-79abd7eea5d6",
   "metadata": {},
   "source": [
    "### 计算无标度网络的阈值 $\\tau=0.5$"
   ]
  },
  {
   "cell_type": "code",
   "execution_count": 8,
   "id": "bab54e2f-6624-4f54-a7dd-caa131f6cf44",
   "metadata": {},
   "outputs": [],
   "source": [
    "import pandas as pd\n",
    "import matplotlib.pyplot as plt\n",
    "import numpy as np\n",
    "import math\n",
    "from igraph import *\n",
    "import warnings\n",
    "warnings.filterwarnings(\"ignore\")\n",
    "import copy\n",
    "from joblib import Parallel,delayed"
   ]
  },
  {
   "cell_type": "code",
   "execution_count": 9,
   "id": "e5e5c3a6-ec1d-4c57-83a7-421250aa82bf",
   "metadata": {},
   "outputs": [],
   "source": [
    "c=np.loadtxt('c_data.csv')\n",
    "num=np.load('num.npy',allow_pickle=True).tolist()\n",
    "state1=np.load('state1.npy',allow_pickle=True).tolist()\n",
    "a=np.loadtxt('a_data.csv')"
   ]
  },
  {
   "cell_type": "code",
   "execution_count": 10,
   "id": "85e1201c-548a-483e-95e6-753aed987722",
   "metadata": {},
   "outputs": [],
   "source": [
    "g=Graph()\n",
    "# g=g.Barabasi(100,2)\n",
    "g1=Graph()\n",
    "# g1=g1.Barabasi(sum(c),20)\n",
    "g=g.Read_Edgelist(r'Edge storage/edge_list')\n",
    "g1=g1.Read_Edgelist(r'Edge storage/edge_list_info')"
   ]
  },
  {
   "cell_type": "code",
   "execution_count": 11,
   "id": "14e2b309-e213-4692-bf35-3d7921b00324",
   "metadata": {},
   "outputs": [],
   "source": [
    "U=np.zeros([int(sum(c)),2])\n",
    "A=np.zeros([int(sum(c)),2])\n",
    "T=np.zeros([int(sum(c)),2])\n",
    "alpha=1/14\n",
    "stemp={}\n",
    "for i,j in state1.items():\n",
    "    stemp.update(j)\n",
    "for i,j in stemp.items():\n",
    "    U[i][0]=i\n",
    "    U[i][1]=0.99\n",
    "    A[i][0]=i\n",
    "    A[i][1]=0.01\n",
    "    T[i][0]=i\n",
    "    T[i][1]=0\n",
    "    # for i,j in stemp.items():\n",
    "#     if j[1]=='U':\n",
    "#         U[i][0]=i\n",
    "#         U[i][1]=1\n",
    "#         A[i][0]=i\n",
    "#         A[i][1]=0\n",
    "#         T[i][0]=i\n",
    "#         T[i][1]=0\n",
    "#     elif j[1]=='A':\n",
    "#         U[i][0]=i\n",
    "#         U[i][1]=0\n",
    "#         A[i][0]=i\n",
    "#         A[i][1]=1\n",
    "#         T[i][0]=i\n",
    "#         T[i][1]=0\n",
    "#     elif j[1]=='T':\n",
    "#         U[i][0]=i\n",
    "#         U[i][1]=0\n",
    "#         A[i][0]=i\n",
    "#         A[i][1]=0\n",
    "#         T[i][0]=i\n",
    "#         T[i][1]=1\n",
    "W=np.zeros([len(g.vs),len(g.vs)]) \n",
    "for zons in range(len(g.vs)):\n",
    "    for ind in g.neighbors(zons):\n",
    "        W[zons][ind]=((g.degree(ind)**(0.5))/sum([g.degree(ind)**(0.5) for ind in g.neighbors(zons) ]))\n",
    "W1=np.dot(W,W.T)"
   ]
  },
  {
   "cell_type": "code",
   "execution_count": 12,
   "id": "912ce9dc-0e01-4616-abce-6931555c6087",
   "metadata": {},
   "outputs": [],
   "source": [
    "def func1(test,tau):\n",
    "    storU=[copy.deepcopy(U) for i in range(301)]\n",
    "    storA=[copy.deepcopy(A) for i in range(301)]\n",
    "    storT=[copy.deepcopy(T) for i in range(301)]\n",
    "    for t in range(300): \n",
    "        for i,j in state1.items():\n",
    "            for k,v in j.items():\n",
    "                r_temp=[]\n",
    "                r_tempa=[]\n",
    "                for q in g1.neighbors(k):\n",
    "                    r_temp.append(1-test*storA[t][q][1])\n",
    "                    r_tempa.append(1-0.01*(storA[t][q][1]+storT[t][q][1]))\n",
    "                storU[t+1][k][1]=storU[t][k][1]*np.prod(r_temp)+storT[t][k][1]*alpha\n",
    "                storA[t+1][k][1]=storA[t][k][1]*np.prod(r_tempa)+storU[t][k][1]*(1-np.prod(r_temp))\n",
    "                storT[t+1][k][1]=storT[t][k][1]*(1-alpha)+storA[t][k][1]*(1-np.prod(r_tempa))\n",
    "    storU1=[]\n",
    "    storA1=[]\n",
    "    storT1=[]\n",
    "    for i in range(100):\n",
    "        storU1.append(sum((storU[300][:,1][int(sum(c[:i])):int(sum(c[:i+1]))]))/c[i])\n",
    "        storA1.append(sum((storA[300][:,1][int(sum(c[:i])):int(sum(c[:i+1]))]))/c[i])\n",
    "        storT1.append(sum((storT[300][:,1][int(sum(c[:i])):int(sum(c[:i+1]))]))/c[i])\n",
    "    M=np.zeros([100,100])\n",
    "    for i in range(len(g.vs)):\n",
    "        for j in range(len(g.vs)):\n",
    "            if i==j:\n",
    "                M[i][j]=((((1-0.3)**2)*storU1[i]*storU1[j]+\n",
    "                storU1[i]*(storA1[j]+storT1[j])*0.7*(1-0.3**2)+\n",
    "                tau*(1-0.3**2)*0.7*(storA1[i]+storT1[i])*storU1[j]+\n",
    "                tau*((1-0.3**2)**2)*(storA1[i]+storT1[i])*(storA1[j]+storT1[j]))*c[j]+\n",
    "                (0.7*0.3*storU1[i]*storU1[j]+\n",
    "                0.7*((0.3)**2)*storU1[i]*(storA1[j]+storT1[j])+\n",
    "                tau*(1-0.3**2)*0.3*(storA1[i]+storT1[i])*storU1[j]+\n",
    "                tau*((1-0.3**2))*(0.3**2)*(storA1[i]+storT1[i])*(storA1[j]+storT1[j]))*c[j]*W[j][i]+\n",
    "                (0.7*0.3*storU1[i]*storU1[j]+\n",
    "                0.3*(1-(0.3)**2)*storU1[i]*(storA1[j]+storT1[j])+\n",
    "                tau*(0.3**2)*0.7*(storA1[i]+storT1[i])*storU1[j]+\n",
    "                tau*((1-0.3**2))*(0.3**2)*(storA1[i]+storT1[i])*(storA1[j]+storT1[j]))*c[j]*W[i][j]+\n",
    "                ((0.3**2)*storU1[i]*storU1[j]+\n",
    "                0.3*((0.3)**2)*storU1[i]*(storA1[j]+storT1[j])+\n",
    "                tau*(0.3**2)*0.3*(storA1[i]+storT1[i])*storU1[j]+\n",
    "                tau*((0.3**2))*(0.3**2)*(storA1[i]+storT1[i])*(storA1[j]+storT1[j]))*c[j]*W1[i][j])\n",
    "            elif i!=j:\n",
    "                M[i][j]=((0.7*0.3*storU1[i]*storU1[j]+\n",
    "                0.7*((0.3)**2)*storU1[i]*(storA1[j]+storT1[j])+\n",
    "                tau*(1-0.3**2)*0.3*(storA1[i]+storT1[i])*storU1[j]+\n",
    "                tau*((1-0.3**2))*(0.3**2)*(storA1[i]+storT1[i])*(storA1[j]+storT1[j]))*c[j]*W[j][i]+\n",
    "                (0.7*0.3*storU1[i]*storU1[j]+\n",
    "                0.3*(1-(0.3)**2)*storU1[i]*(storA1[j]+storT1[j])+\n",
    "                tau*(0.3**2)*0.7*(storA1[i]+storT1[i])*storU1[j]+\n",
    "                tau*((1-0.3**2))*(0.3**2)*(storA1[i]+storT1[i])*(storA1[j]+storT1[j]))*c[j]*W[i][j]+\n",
    "                ((0.3**2)*storU1[i]*storU1[j]+\n",
    "                0.3*((0.3)**2)*storU1[i]*(storA1[j]+storT1[j])+\n",
    "                tau*(0.3**2)*0.3*(storA1[i]+storT1[i])*storU1[j]+\n",
    "                tau*((0.3**2))*(0.3**2)*(storA1[i]+storT1[i])*(storA1[j]+storT1[j]))*c[j]*W1[i][j])\n",
    "    eig=np.linalg.eig(M)\n",
    "    return 1/eig[0].max()"
   ]
  },
  {
   "cell_type": "code",
   "execution_count": 13,
   "id": "6a048675-22b9-490b-bee3-d740e0e8fcfb",
   "metadata": {},
   "outputs": [],
   "source": [
    "data5=Parallel(n_jobs=20)(delayed(func1)(test,tau=0.5) for test in np.linspace(0,0.1,11))"
   ]
  },
  {
   "cell_type": "code",
   "execution_count": 15,
   "id": "96a0ad01-afc7-46ec-9652-15b1160c6b84",
   "metadata": {},
   "outputs": [
    {
     "data": {
      "text/plain": [
       "[0.005108324216273608,\n",
       " 0.007171706325218071,\n",
       " 0.008226778808102716,\n",
       " 0.00880876731934441,\n",
       " (0.009169763271848524+0j),\n",
       " 0.009412714334221516,\n",
       " 0.009585967844128612,\n",
       " 0.009714922147429042,\n",
       " 0.009814102665672347,\n",
       " 0.009892380694742006,\n",
       " 0.009955463957372089]"
      ]
     },
     "execution_count": 15,
     "metadata": {},
     "output_type": "execute_result"
    }
   ],
   "source": [
    "data5"
   ]
  },
  {
   "cell_type": "code",
   "execution_count": 14,
   "id": "97f10f5f-ad04-407c-9bf4-118bf619d3bc",
   "metadata": {},
   "outputs": [],
   "source": [
    "np.save('new_thero_value_tao5',data5)"
   ]
  },
  {
   "cell_type": "markdown",
   "id": "1aabcbe1-522f-498e-9671-7213427a2200",
   "metadata": {},
   "source": [
    "### 无标度网络阈值为$\\tau=0.3$"
   ]
  },
  {
   "cell_type": "code",
   "execution_count": 16,
   "id": "78c2e81d-4c9c-42c9-b62a-fc3582524d4f",
   "metadata": {},
   "outputs": [],
   "source": [
    "U=np.zeros([int(sum(c)),2])\n",
    "A=np.zeros([int(sum(c)),2])\n",
    "T=np.zeros([int(sum(c)),2])\n",
    "alpha=1/14\n",
    "stemp={}\n",
    "for i,j in state1.items():\n",
    "    stemp.update(j)\n",
    "for i,j in stemp.items():\n",
    "    U[i][0]=i\n",
    "    U[i][1]=0.99\n",
    "    A[i][0]=i\n",
    "    A[i][1]=0.01\n",
    "    T[i][0]=i\n",
    "    T[i][1]=0\n",
    "    # for i,j in stemp.items():\n",
    "#     if j[1]=='U':\n",
    "#         U[i][0]=i\n",
    "#         U[i][1]=1\n",
    "#         A[i][0]=i\n",
    "#         A[i][1]=0\n",
    "#         T[i][0]=i\n",
    "#         T[i][1]=0\n",
    "#     elif j[1]=='A':\n",
    "#         U[i][0]=i\n",
    "#         U[i][1]=0\n",
    "#         A[i][0]=i\n",
    "#         A[i][1]=1\n",
    "#         T[i][0]=i\n",
    "#         T[i][1]=0\n",
    "#     elif j[1]=='T':\n",
    "#         U[i][0]=i\n",
    "#         U[i][1]=0\n",
    "#         A[i][0]=i\n",
    "#         A[i][1]=0\n",
    "#         T[i][0]=i\n",
    "#         T[i][1]=1\n",
    "W=np.zeros([len(g.vs),len(g.vs)]) \n",
    "for zons in range(len(g.vs)):\n",
    "    for ind in g.neighbors(zons):\n",
    "        W[zons][ind]=((g.degree(ind)**(0.5))/sum([g.degree(ind)**(0.5) for ind in g.neighbors(zons) ]))\n",
    "W1=np.dot(W,W.T)"
   ]
  },
  {
   "cell_type": "code",
   "execution_count": 17,
   "id": "22e68030-e7d4-41a1-9310-321b6e2ddb0d",
   "metadata": {},
   "outputs": [],
   "source": [
    "def func1(test,tau):\n",
    "    storU=[copy.deepcopy(U) for i in range(301)]\n",
    "    storA=[copy.deepcopy(A) for i in range(301)]\n",
    "    storT=[copy.deepcopy(T) for i in range(301)]\n",
    "    for t in range(300): \n",
    "        for i,j in state1.items():\n",
    "            for k,v in j.items():\n",
    "                r_temp=[]\n",
    "                r_tempa=[]\n",
    "                for q in g1.neighbors(k):\n",
    "                    r_temp.append(1-test*storA[t][q][1])\n",
    "                    r_tempa.append(1-0.01*(storA[t][q][1]+storT[t][q][1]))\n",
    "                storU[t+1][k][1]=storU[t][k][1]*np.prod(r_temp)+storT[t][k][1]*alpha\n",
    "                storA[t+1][k][1]=storA[t][k][1]*np.prod(r_tempa)+storU[t][k][1]*(1-np.prod(r_temp))\n",
    "                storT[t+1][k][1]=storT[t][k][1]*(1-alpha)+storA[t][k][1]*(1-np.prod(r_tempa))\n",
    "    storU1=[]\n",
    "    storA1=[]\n",
    "    storT1=[]\n",
    "    for i in range(100):\n",
    "        storU1.append(sum((storU[300][:,1][int(sum(c[:i])):int(sum(c[:i+1]))]))/c[i])\n",
    "        storA1.append(sum((storA[300][:,1][int(sum(c[:i])):int(sum(c[:i+1]))]))/c[i])\n",
    "        storT1.append(sum((storT[300][:,1][int(sum(c[:i])):int(sum(c[:i+1]))]))/c[i])\n",
    "    M=np.zeros([100,100])\n",
    "    for i in range(len(g.vs)):\n",
    "        for j in range(len(g.vs)):\n",
    "            if i==j:\n",
    "                M[i][j]=((((1-0.3)**2)*storU1[i]*storU1[j]+\n",
    "                storU1[i]*(storA1[j]+storT1[j])*0.7*(1-0.3**2)+\n",
    "                tau*(1-0.3**2)*0.7*(storA1[i]+storT1[i])*storU1[j]+\n",
    "                tau*((1-0.3**2)**2)*(storA1[i]+storT1[i])*(storA1[j]+storT1[j]))*c[j]+\n",
    "                (0.7*0.3*storU1[i]*storU1[j]+\n",
    "                0.7*((0.3)**2)*storU1[i]*(storA1[j]+storT1[j])+\n",
    "                tau*(1-0.3**2)*0.3*(storA1[i]+storT1[i])*storU1[j]+\n",
    "                tau*((1-0.3**2))*(0.3**2)*(storA1[i]+storT1[i])*(storA1[j]+storT1[j]))*c[j]*W[j][i]+\n",
    "                (0.7*0.3*storU1[i]*storU1[j]+\n",
    "                0.3*(1-(0.3)**2)*storU1[i]*(storA1[j]+storT1[j])+\n",
    "                tau*(0.3**2)*0.7*(storA1[i]+storT1[i])*storU1[j]+\n",
    "                tau*((1-0.3**2))*(0.3**2)*(storA1[i]+storT1[i])*(storA1[j]+storT1[j]))*c[j]*W[i][j]+\n",
    "                ((0.3**2)*storU1[i]*storU1[j]+\n",
    "                0.3*((0.3)**2)*storU1[i]*(storA1[j]+storT1[j])+\n",
    "                tau*(0.3**2)*0.3*(storA1[i]+storT1[i])*storU1[j]+\n",
    "                tau*((0.3**2))*(0.3**2)*(storA1[i]+storT1[i])*(storA1[j]+storT1[j]))*c[j]*W1[i][j])\n",
    "            elif i!=j:\n",
    "                M[i][j]=((0.7*0.3*storU1[i]*storU1[j]+\n",
    "                0.7*((0.3)**2)*storU1[i]*(storA1[j]+storT1[j])+\n",
    "                tau*(1-0.3**2)*0.3*(storA1[i]+storT1[i])*storU1[j]+\n",
    "                tau*((1-0.3**2))*(0.3**2)*(storA1[i]+storT1[i])*(storA1[j]+storT1[j]))*c[j]*W[j][i]+\n",
    "                (0.7*0.3*storU1[i]*storU1[j]+\n",
    "                0.3*(1-(0.3)**2)*storU1[i]*(storA1[j]+storT1[j])+\n",
    "                tau*(0.3**2)*0.7*(storA1[i]+storT1[i])*storU1[j]+\n",
    "                tau*((1-0.3**2))*(0.3**2)*(storA1[i]+storT1[i])*(storA1[j]+storT1[j]))*c[j]*W[i][j]+\n",
    "                ((0.3**2)*storU1[i]*storU1[j]+\n",
    "                0.3*((0.3)**2)*storU1[i]*(storA1[j]+storT1[j])+\n",
    "                tau*(0.3**2)*0.3*(storA1[i]+storT1[i])*storU1[j]+\n",
    "                tau*((0.3**2))*(0.3**2)*(storA1[i]+storT1[i])*(storA1[j]+storT1[j]))*c[j]*W1[i][j])\n",
    "    eig=np.linalg.eig(M)\n",
    "    return 1/eig[0].max()"
   ]
  },
  {
   "cell_type": "code",
   "execution_count": 18,
   "id": "49107d2f-9909-46a3-8d37-319f03abda24",
   "metadata": {},
   "outputs": [],
   "source": [
    "data3=Parallel(n_jobs=20)(delayed(func1)(test,tau=0.3) for test in np.linspace(0,0.1,11))"
   ]
  },
  {
   "cell_type": "code",
   "execution_count": 22,
   "id": "2978fb99-0f8e-4f34-912f-1e0d79cc5cc5",
   "metadata": {},
   "outputs": [],
   "source": [
    "np.save('new_thero_value_tao3',data3)"
   ]
  },
  {
   "cell_type": "markdown",
   "id": "107f692f-1818-4499-83d5-3022ee58e4af",
   "metadata": {},
   "source": [
    "### 无标度网络阈值为$\\tau=0.1$"
   ]
  },
  {
   "cell_type": "code",
   "execution_count": 19,
   "id": "27b5318f-ad46-431d-96b0-f08138408b8c",
   "metadata": {},
   "outputs": [],
   "source": [
    "T=np.zeros([int(sum(c)),2])\n",
    "alpha=1/14\n",
    "stemp={}\n",
    "for i,j in state1.items():\n",
    "    stemp.update(j)\n",
    "for i,j in stemp.items():\n",
    "    U[i][0]=i\n",
    "    U[i][1]=0.99\n",
    "    A[i][0]=i\n",
    "    A[i][1]=0.01\n",
    "    T[i][0]=i\n",
    "    T[i][1]=0\n",
    "    # for i,j in stemp.items():\n",
    "#     if j[1]=='U':\n",
    "#         U[i][0]=i\n",
    "#         U[i][1]=1\n",
    "#         A[i][0]=i\n",
    "#         A[i][1]=0\n",
    "#         T[i][0]=i\n",
    "#         T[i][1]=0\n",
    "#     elif j[1]=='A':\n",
    "#         U[i][0]=i\n",
    "#         U[i][1]=0\n",
    "#         A[i][0]=i\n",
    "#         A[i][1]=1\n",
    "#         T[i][0]=i\n",
    "#         T[i][1]=0\n",
    "#     elif j[1]=='T':\n",
    "#         U[i][0]=i\n",
    "#         U[i][1]=0\n",
    "#         A[i][0]=i\n",
    "#         A[i][1]=0\n",
    "#         T[i][0]=i\n",
    "#         T[i][1]=1\n",
    "W=np.zeros([len(g.vs),len(g.vs)]) \n",
    "for zons in range(len(g.vs)):\n",
    "    for ind in g.neighbors(zons):\n",
    "        W[zons][ind]=((g.degree(ind)**(0.5))/sum([g.degree(ind)**(0.5) for ind in g.neighbors(zons) ]))\n",
    "W1=np.dot(W,W.T)"
   ]
  },
  {
   "cell_type": "code",
   "execution_count": 20,
   "id": "10674557-5ca6-47d2-8b92-11ed58459c34",
   "metadata": {},
   "outputs": [],
   "source": [
    "def func1(test,tau):\n",
    "    storU=[copy.deepcopy(U) for i in range(301)]\n",
    "    storA=[copy.deepcopy(A) for i in range(301)]\n",
    "    storT=[copy.deepcopy(T) for i in range(301)]\n",
    "    for t in range(300): \n",
    "        for i,j in state1.items():\n",
    "            for k,v in j.items():\n",
    "                r_temp=[]\n",
    "                r_tempa=[]\n",
    "                for q in g1.neighbors(k):\n",
    "                    r_temp.append(1-test*storA[t][q][1])\n",
    "                    r_tempa.append(1-0.01*(storA[t][q][1]+storT[t][q][1]))\n",
    "                storU[t+1][k][1]=storU[t][k][1]*np.prod(r_temp)+storT[t][k][1]*alpha\n",
    "                storA[t+1][k][1]=storA[t][k][1]*np.prod(r_tempa)+storU[t][k][1]*(1-np.prod(r_temp))\n",
    "                storT[t+1][k][1]=storT[t][k][1]*(1-alpha)+storA[t][k][1]*(1-np.prod(r_tempa))\n",
    "    storU1=[]\n",
    "    storA1=[]\n",
    "    storT1=[]\n",
    "    for i in range(100):\n",
    "        storU1.append(sum((storU[300][:,1][int(sum(c[:i])):int(sum(c[:i+1]))]))/c[i])\n",
    "        storA1.append(sum((storA[300][:,1][int(sum(c[:i])):int(sum(c[:i+1]))]))/c[i])\n",
    "        storT1.append(sum((storT[300][:,1][int(sum(c[:i])):int(sum(c[:i+1]))]))/c[i])\n",
    "    M=np.zeros([100,100])\n",
    "    for i in range(len(g.vs)):\n",
    "        for j in range(len(g.vs)):\n",
    "            if i==j:\n",
    "                M[i][j]=((((1-0.3)**2)*storU1[i]*storU1[j]+\n",
    "                storU1[i]*(storA1[j]+storT1[j])*0.7*(1-0.3**2)+\n",
    "                tau*(1-0.3**2)*0.7*(storA1[i]+storT1[i])*storU1[j]+\n",
    "                tau*((1-0.3**2)**2)*(storA1[i]+storT1[i])*(storA1[j]+storT1[j]))*c[j]+\n",
    "                (0.7*0.3*storU1[i]*storU1[j]+\n",
    "                0.7*((0.3)**2)*storU1[i]*(storA1[j]+storT1[j])+\n",
    "                tau*(1-0.3**2)*0.3*(storA1[i]+storT1[i])*storU1[j]+\n",
    "                tau*((1-0.3**2))*(0.3**2)*(storA1[i]+storT1[i])*(storA1[j]+storT1[j]))*c[j]*W[j][i]+\n",
    "                (0.7*0.3*storU1[i]*storU1[j]+\n",
    "                0.3*(1-(0.3)**2)*storU1[i]*(storA1[j]+storT1[j])+\n",
    "                tau*(0.3**2)*0.7*(storA1[i]+storT1[i])*storU1[j]+\n",
    "                tau*((1-0.3**2))*(0.3**2)*(storA1[i]+storT1[i])*(storA1[j]+storT1[j]))*c[j]*W[i][j]+\n",
    "                ((0.3**2)*storU1[i]*storU1[j]+\n",
    "                0.3*((0.3)**2)*storU1[i]*(storA1[j]+storT1[j])+\n",
    "                tau*(0.3**2)*0.3*(storA1[i]+storT1[i])*storU1[j]+\n",
    "                tau*((0.3**2))*(0.3**2)*(storA1[i]+storT1[i])*(storA1[j]+storT1[j]))*c[j]*W1[i][j])\n",
    "            elif i!=j:\n",
    "                M[i][j]=((0.7*0.3*storU1[i]*storU1[j]+\n",
    "                0.7*((0.3)**2)*storU1[i]*(storA1[j]+storT1[j])+\n",
    "                tau*(1-0.3**2)*0.3*(storA1[i]+storT1[i])*storU1[j]+\n",
    "                tau*((1-0.3**2))*(0.3**2)*(storA1[i]+storT1[i])*(storA1[j]+storT1[j]))*c[j]*W[j][i]+\n",
    "                (0.7*0.3*storU1[i]*storU1[j]+\n",
    "                0.3*(1-(0.3)**2)*storU1[i]*(storA1[j]+storT1[j])+\n",
    "                tau*(0.3**2)*0.7*(storA1[i]+storT1[i])*storU1[j]+\n",
    "                tau*((1-0.3**2))*(0.3**2)*(storA1[i]+storT1[i])*(storA1[j]+storT1[j]))*c[j]*W[i][j]+\n",
    "                ((0.3**2)*storU1[i]*storU1[j]+\n",
    "                0.3*((0.3)**2)*storU1[i]*(storA1[j]+storT1[j])+\n",
    "                tau*(0.3**2)*0.3*(storA1[i]+storT1[i])*storU1[j]+\n",
    "                tau*((0.3**2))*(0.3**2)*(storA1[i]+storT1[i])*(storA1[j]+storT1[j]))*c[j]*W1[i][j])\n",
    "    eig=np.linalg.eig(M)\n",
    "    return 1/eig[0].max()"
   ]
  },
  {
   "cell_type": "code",
   "execution_count": 21,
   "id": "27c38724-5966-4726-b83a-9381985dde83",
   "metadata": {},
   "outputs": [],
   "source": [
    "data1=Parallel(n_jobs=20)(delayed(func1)(test,tau=0.1) for test in np.linspace(0,0.1,11))"
   ]
  },
  {
   "cell_type": "code",
   "execution_count": 23,
   "id": "1b9b15cb-21e0-4119-b42e-c037073dc6e1",
   "metadata": {},
   "outputs": [],
   "source": [
    "np.save('new_thero_value_tao1',data1)"
   ]
  },
  {
   "cell_type": "markdown",
   "id": "7fc3db19-3472-4ed9-ac52-cdb928d9b0ce",
   "metadata": {},
   "source": [
    "### 计算ER网络下的阈值$tau=0.5$"
   ]
  },
  {
   "cell_type": "code",
   "execution_count": 24,
   "id": "d7fc085a-3655-4501-b460-019632888d58",
   "metadata": {},
   "outputs": [],
   "source": [
    "g1=g1.Read_Edgelist(r'Edge storage/edge_ER_4')"
   ]
  },
  {
   "cell_type": "code",
   "execution_count": 25,
   "id": "d983f405-5c3a-4876-a4a2-e9286c9cb771",
   "metadata": {},
   "outputs": [
    {
     "data": {
      "text/plain": [
       "39.94095238095238"
      ]
     },
     "execution_count": 25,
     "metadata": {},
     "output_type": "execute_result"
    }
   ],
   "source": [
    "sum(g1.degree())/len(g1.vs)"
   ]
  },
  {
   "cell_type": "code",
   "execution_count": 26,
   "id": "24a6d943-03b3-4055-a0dc-534e9a279d94",
   "metadata": {},
   "outputs": [],
   "source": [
    "def func1(test,tau):\n",
    "    storU=[copy.deepcopy(U) for i in range(301)]\n",
    "    storA=[copy.deepcopy(A) for i in range(301)]\n",
    "    storT=[copy.deepcopy(T) for i in range(301)]\n",
    "    for t in range(300): \n",
    "        for i,j in state1.items():\n",
    "            for k,v in j.items():\n",
    "                r_temp=[]\n",
    "                r_tempa=[]\n",
    "                for q in g1.neighbors(k):\n",
    "                    r_temp.append(1-test*storA[t][q][1])\n",
    "                    r_tempa.append(1-0.01*(storA[t][q][1]+storT[t][q][1]))\n",
    "                storU[t+1][k][1]=storU[t][k][1]*np.prod(r_temp)+storT[t][k][1]*alpha\n",
    "                storA[t+1][k][1]=storA[t][k][1]*np.prod(r_tempa)+storU[t][k][1]*(1-np.prod(r_temp))\n",
    "                storT[t+1][k][1]=storT[t][k][1]*(1-alpha)+storA[t][k][1]*(1-np.prod(r_tempa))\n",
    "    storU1=[]\n",
    "    storA1=[]\n",
    "    storT1=[]\n",
    "    for i in range(100):\n",
    "        storU1.append(sum((storU[300][:,1][int(sum(c[:i])):int(sum(c[:i+1]))]))/c[i])\n",
    "        storA1.append(sum((storA[300][:,1][int(sum(c[:i])):int(sum(c[:i+1]))]))/c[i])\n",
    "        storT1.append(sum((storT[300][:,1][int(sum(c[:i])):int(sum(c[:i+1]))]))/c[i])\n",
    "    M=np.zeros([100,100])\n",
    "    for i in range(len(g.vs)):\n",
    "        for j in range(len(g.vs)):\n",
    "            if i==j:\n",
    "                M[i][j]=((((1-0.3)**2)*storU1[i]*storU1[j]+\n",
    "                storU1[i]*(storA1[j]+storT1[j])*0.7*(1-0.3**2)+\n",
    "                tau*(1-0.3**2)*0.7*(storA1[i]+storT1[i])*storU1[j]+\n",
    "                tau*((1-0.3**2)**2)*(storA1[i]+storT1[i])*(storA1[j]+storT1[j]))*c[j]+\n",
    "                (0.7*0.3*storU1[i]*storU1[j]+\n",
    "                0.7*((0.3)**2)*storU1[i]*(storA1[j]+storT1[j])+\n",
    "                tau*(1-0.3**2)*0.3*(storA1[i]+storT1[i])*storU1[j]+\n",
    "                tau*((1-0.3**2))*(0.3**2)*(storA1[i]+storT1[i])*(storA1[j]+storT1[j]))*c[j]*W[j][i]+\n",
    "                (0.7*0.3*storU1[i]*storU1[j]+\n",
    "                0.3*(1-(0.3)**2)*storU1[i]*(storA1[j]+storT1[j])+\n",
    "                tau*(0.3**2)*0.7*(storA1[i]+storT1[i])*storU1[j]+\n",
    "                tau*((1-0.3**2))*(0.3**2)*(storA1[i]+storT1[i])*(storA1[j]+storT1[j]))*c[j]*W[i][j]+\n",
    "                ((0.3**2)*storU1[i]*storU1[j]+\n",
    "                0.3*((0.3)**2)*storU1[i]*(storA1[j]+storT1[j])+\n",
    "                tau*(0.3**2)*0.3*(storA1[i]+storT1[i])*storU1[j]+\n",
    "                tau*((0.3**2))*(0.3**2)*(storA1[i]+storT1[i])*(storA1[j]+storT1[j]))*c[j]*W1[i][j])\n",
    "            elif i!=j:\n",
    "                M[i][j]=((0.7*0.3*storU1[i]*storU1[j]+\n",
    "                0.7*((0.3)**2)*storU1[i]*(storA1[j]+storT1[j])+\n",
    "                tau*(1-0.3**2)*0.3*(storA1[i]+storT1[i])*storU1[j]+\n",
    "                tau*((1-0.3**2))*(0.3**2)*(storA1[i]+storT1[i])*(storA1[j]+storT1[j]))*c[j]*W[j][i]+\n",
    "                (0.7*0.3*storU1[i]*storU1[j]+\n",
    "                0.3*(1-(0.3)**2)*storU1[i]*(storA1[j]+storT1[j])+\n",
    "                tau*(0.3**2)*0.7*(storA1[i]+storT1[i])*storU1[j]+\n",
    "                tau*((1-0.3**2))*(0.3**2)*(storA1[i]+storT1[i])*(storA1[j]+storT1[j]))*c[j]*W[i][j]+\n",
    "                ((0.3**2)*storU1[i]*storU1[j]+\n",
    "                0.3*((0.3)**2)*storU1[i]*(storA1[j]+storT1[j])+\n",
    "                tau*(0.3**2)*0.3*(storA1[i]+storT1[i])*storU1[j]+\n",
    "                tau*((0.3**2))*(0.3**2)*(storA1[i]+storT1[i])*(storA1[j]+storT1[j]))*c[j]*W1[i][j])\n",
    "    eig=np.linalg.eig(M)\n",
    "    return 1/eig[0].max()"
   ]
  },
  {
   "cell_type": "code",
   "execution_count": 27,
   "id": "8cb9d198-90db-4174-aaa3-97c7af8f4a66",
   "metadata": {},
   "outputs": [],
   "source": [
    "daer5=Parallel(n_jobs=20)(delayed(func1)(test,tau=0.5) for test in np.linspace(0,0.1,11))"
   ]
  },
  {
   "cell_type": "code",
   "execution_count": 30,
   "id": "73e29d46-ad56-4d4a-8a55-1b0370267939",
   "metadata": {},
   "outputs": [],
   "source": [
    "np.save('threo_er_5',daer5)"
   ]
  },
  {
   "cell_type": "code",
   "execution_count": 28,
   "id": "84209992-2b65-4932-8331-cae4c854ec9f",
   "metadata": {},
   "outputs": [],
   "source": [
    "daer=Parallel(n_jobs=20)(delayed(func1)(test,tau=0.3) for test in np.linspace(0,0.1,11))"
   ]
  },
  {
   "cell_type": "code",
   "execution_count": 31,
   "id": "2b16d846-afdd-46d0-9d4c-d9a3f7efd9c4",
   "metadata": {},
   "outputs": [],
   "source": [
    "np.save('threo_er_3',daer)"
   ]
  },
  {
   "cell_type": "code",
   "execution_count": 29,
   "id": "a1c6912e-4a6d-484b-b59e-ce476d5f0c55",
   "metadata": {},
   "outputs": [],
   "source": [
    "daer1=Parallel(n_jobs=20)(delayed(func1)(test,tau=0.1) for test in np.linspace(0,0.1,11))"
   ]
  },
  {
   "cell_type": "code",
   "execution_count": 32,
   "id": "784aa0ba-6001-48d1-9b07-c2331bf4a960",
   "metadata": {},
   "outputs": [],
   "source": [
    "np.save('threo_er_1',daer1)"
   ]
  },
  {
   "cell_type": "code",
   "execution_count": null,
   "id": "f61a80bc-9a40-4bf0-b513-c0fb79a8ed9e",
   "metadata": {},
   "outputs": [],
   "source": []
  }
 ],
 "metadata": {
  "kernelspec": {
   "display_name": "Python 3 (ipykernel)",
   "language": "python",
   "name": "python3"
  },
  "language_info": {
   "codemirror_mode": {
    "name": "ipython",
    "version": 3
   },
   "file_extension": ".py",
   "mimetype": "text/x-python",
   "name": "python",
   "nbconvert_exporter": "python",
   "pygments_lexer": "ipython3",
   "version": "3.9.7"
  }
 },
 "nbformat": 4,
 "nbformat_minor": 5
}
